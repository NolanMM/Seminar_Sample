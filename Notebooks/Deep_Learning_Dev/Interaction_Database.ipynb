{
 "cells": [
  {
   "cell_type": "code",
   "execution_count": 13,
   "id": "0016c387-6dbf-4ab2-ab66-6c62790c8333",
   "metadata": {},
   "outputs": [],
   "source": [
    "from dotenv import load_dotenv\n",
    "import polars as pl\n",
    "import psycopg2\n",
    "import os"
   ]
  },
  {
   "cell_type": "code",
   "execution_count": 27,
   "id": "487ea59f-031b-489d-b44e-85f543ca1ef0",
   "metadata": {},
   "outputs": [],
   "source": [
    "#env_path=\"./Deeplearning_Pipeline/keys/postgresql.env\"\n",
    "env_path=\"./keys/postgresql.env\"\n",
    "current_directory = os.getcwd()\n",
    "full_path = os.path.join(current_directory, env_path)\n",
    "normalized_path = os.path.normpath(full_path)\n",
    "load_dotenv(normalized_path, override=True)\n",
    "postgresql_config = {\n",
    "    \"host\": os.getenv(\"POSTGRESQL_HOST\"),\n",
    "    \"port\": os.getenv(\"POSTGRESQL_PORT\"),\n",
    "    \"dbname\": os.getenv(\"POSTGRESQL_DB\"),\n",
    "    \"user\": os.getenv(\"POSTGRESQL_USER\"),\n",
    "    \"password\": os.getenv(\"POSTGRESQL_PASSWORD\"),\n",
    "}"
   ]
  },
  {
   "cell_type": "code",
   "execution_count": 28,
   "id": "ba45c0dd-7f1e-4b63-8e3e-fd74e1b3e9c4",
   "metadata": {},
   "outputs": [],
   "source": [
    "DATABASE_STRUCT_DICT = {\n",
    "    \"bronze_schema\" :{\"stock_prices_fact_table\":{\"columns_names\": ['stock_symbol', 'current_price', 'change', 'percent_change', 'high_price_of_the_day', 'low_price_of_the_day', 'open_price_of_the_day', 'previous_close_price', 'Datetime'], \"columns_data_types_list\": [\"String\", \"Float64\", \"Float64\", \"Float64\", \"Float64\", \"Float64\", \"Float64\", \"Float64\", \"String\"]},\n",
    "                      \"company_information_dim_table\":{\"columns_names\": ['symbol', 'price', 'beta', 'volAvg', 'mktCap', 'lastDiv', 'range', 'changes', 'companyName', 'currency', 'cik', 'isin', 'cusip', 'exchange', 'exchangeShortName', 'industry', 'website', 'description', 'ceo', 'sector', 'country', 'fullTimeEmployees', 'phone', 'address', 'city', 'state', 'zip', 'dcfDiff', 'dcf', 'image', 'ipoDate', 'defaultImage', 'isEtf', 'isActivelyTrading', 'isAdr', 'isFund', 'Datetime'], \"columns_data_types_list\": [\"String\", \"Float64\", \"Float64\", \"Int64\", \"Int64\", \"Float64\", \"String\", \"Float64\", \"String\", \"String\", \"String\", \"String\", \"String\", \"String\", \"String\", \"String\", \"String\", \"String\", \"String\", \"String\", \"String\", \"String\", \"String\", \"String\", \"String\", \"String\", \"String\", \"Float64\", \"Float64\", \"String\", \"String\", \"Boolean\", \"Boolean\", \"Boolean\", \"Boolean\", \"Boolean\", \"String\"]}},\n",
    "    \"silver_schema\" :{\"silver_stock_prices_fact\":{\"columns_names\": ['stock_symbol', 'current_price', 'change', 'percent_change', 'high_price_of_the_day', 'low_price_of_the_day', 'open_price_of_the_day', 'previous_close_price', 'Datetime', 'Date', 'Day', 'Month', 'Year', 'Hour', 'Min', 'Sec'], \"columns_data_types_list\": [\"String\", \"Float64\", \"Float64\", \"Float64\", \"Float64\", \"Float64\", \"Float64\", \"Float64\", \"String\", \"Date\", \"Int8\", \"Int8\", \"Int32\", \"Int8\", \"Int8\", \"Int8\"]},\n",
    "                      \"silver_company_info_dim\":{\"columns_names\": ['symbol', 'price', 'beta', 'volAvg', 'mktCap', 'lastDiv', 'range', 'changes', 'companyName', 'currency', 'cik', 'isin', 'cusip', 'exchange', 'exchangeShortName', 'industry', 'website', 'description', 'ceo', 'sector', 'country', 'fullTimeEmployees', 'phone', 'address', 'city', 'state', 'zip', 'dcfDiff', 'dcf', 'image', 'ipoDate', 'defaultImage', 'isEtf', 'isActivelyTrading', 'isAdr', 'isFund', 'Datetime', 'Date', 'Day', 'Month', 'Year', 'Hour', 'Min', 'Sec'], \"columns_data_types_list\": [\"String\", \"Float64\", \"Float64\", \"Int64\", \"Int64\", \"Float64\", \"String\", \"Float64\", \"String\", \"String\", \"String\", \"String\", \"String\", \"String\", \"String\", \"String\", \"String\", \"String\", \"String\", \"String\", \"String\", \"String\", \"String\", \"String\", \"String\", \"String\", \"String\", \"Float64\", \"Float64\", \"String\", \"String\", \"Boolean\", \"Boolean\", \"Boolean\", \"Boolean\", \"Boolean\", \"String\", \"Date\", \"Int8\", \"Int8\", \"Int32\", \"Int8\", \"Int8\", \"Int8\"]}},\n",
    "    \"gold_schema\" :{\"gold_table\":{\"columns_names\": ['stock_symbol', 'companyName', 'current_price', 'percent_change', 'mktCap', 'sector', 'industry', 'country', 'Date', 'Day', 'Month', 'Year', 'Hour', 'Min', 'Sec'], \"columns_data_types_list\": [\"String\", \"String\", \"Float64\", \"Float64\", \"Int64\", \"String\", \"String\", \"String\", \"Date\", \"Int8\", \"Int8\", \"Int32\", \"Int8\", \"Int8\", \"Int8\"]},\n",
    "                      \"gold_company_information_dim_table\":{\"columns_names\": ['symbol', 'price', 'beta', 'volAvg', 'mktCap', 'lastDiv', 'range', 'changes', 'companyName', 'currency', 'cik', 'isin', 'cusip', 'exchange', 'exchangeShortName', 'industry', 'website', 'description', 'ceo', 'sector', 'country', 'fullTimeEmployees', 'phone', 'address', 'city', 'state', 'zip', 'dcfDiff', 'dcf', 'image', 'ipoDate', 'defaultImage', 'isEtf', 'isActivelyTrading', 'isAdr', 'isFund', 'Datetime', 'Date', 'Day', 'Month', 'Year', 'Hour', 'Min', 'Sec'], \"columns_data_types_list\": [\"String\", \"Float64\", \"Float64\", \"Int64\", \"Int64\", \"Float64\", \"String\", \"Float64\", \"String\", \"String\", \"String\", \"String\", \"String\", \"String\", \"String\", \"String\", \"String\", \"String\", \"String\", \"String\", \"String\", \"String\", \"String\", \"String\", \"String\", \"String\", \"String\", \"Float64\", \"Float64\", \"String\", \"String\", \"Boolean\", \"Boolean\", \"Boolean\", \"Boolean\", \"Boolean\", \"String\", \"Date\", \"Int8\", \"Int8\", \"Int32\", \"Int8\", \"Int8\", \"Int8\"]}}\n",
    "}"
   ]
  },
  {
   "cell_type": "code",
   "execution_count": 37,
   "id": "422ecbd7-1e11-420b-bcbd-a835d8607d6c",
   "metadata": {},
   "outputs": [],
   "source": [
    "def read_table_to_polars_dataframe(postgresql_config):\n",
    "        \"\"\"\n",
    "        Reads all data from a specified table in the given schema and imports it into a Polars DataFrame.\n",
    "        Args:\n",
    "            schema (str): The schema name.\n",
    "            table_name (str): The table name.\n",
    "\n",
    "        Returns:\n",
    "            polars.DataFrame: The table data as a Polars DataFrame.\n",
    "        \"\"\"\n",
    "        try:\n",
    "            schema = \"silver_schema\"\n",
    "            table = \"silver_stock_prices_fact\"\n",
    "            table_metadata = DATABASE_STRUCT_DICT[schema][table]\n",
    "            columns = table_metadata[\"columns_names\"]\n",
    "            column_types = table_metadata[\"columns_data_types_list\"]\n",
    "            \n",
    "            polars_type_map = {\n",
    "                \"String\": pl.Utf8,\n",
    "                \"Float64\": pl.Float64,\n",
    "                \"Int8\": pl.Int8,\n",
    "                \"Int32\": pl.Int32,\n",
    "                \"Date\": pl.Date,\n",
    "                \"Int64\" : pl.Int64\n",
    "            }\n",
    "            \n",
    "            schema_types = {col: polars_type_map[dtype] for col, dtype in zip(columns, column_types)}\n",
    "            \n",
    "            query = f\"SELECT {', '.join(columns)} FROM {schema}.{table}\"\n",
    "\n",
    "            connection = psycopg2.connect(\n",
    "                host=postgresql_config[\"host\"],\n",
    "                dbname=postgresql_config[\"dbname\"],\n",
    "                user=postgresql_config[\"user\"],\n",
    "                password=postgresql_config[\"password\"],\n",
    "                port=postgresql_config[\"port\"]\n",
    "            )\n",
    "            \n",
    "            cursor = connection.cursor()\n",
    "            cursor.execute(query)\n",
    "            data = cursor.fetchall()\n",
    "            df = pl.DataFrame(data, schema=schema_types, orient=\"row\")\n",
    "            return df\n",
    "        except Exception as e:\n",
    "            print(f\"Error: {e}\")\n",
    "            return None\n",
    "        finally:\n",
    "            try:\n",
    "                connection.close()\n",
    "            except Exception as e:\n",
    "                return None"
   ]
  },
  {
   "cell_type": "code",
   "execution_count": 38,
   "id": "7a7161ac-b186-49b2-a8a8-2a06740cd5ae",
   "metadata": {},
   "outputs": [
    {
     "data": {
      "text/html": [
       "<div><style>\n",
       ".dataframe > thead > tr,\n",
       ".dataframe > tbody > tr {\n",
       "  text-align: right;\n",
       "  white-space: pre-wrap;\n",
       "}\n",
       "</style>\n",
       "<small>shape: (150, 16)</small><table border=\"1\" class=\"dataframe\"><thead><tr><th>stock_symbol</th><th>current_price</th><th>change</th><th>percent_change</th><th>high_price_of_the_day</th><th>low_price_of_the_day</th><th>open_price_of_the_day</th><th>previous_close_price</th><th>Datetime</th><th>Date</th><th>Day</th><th>Month</th><th>Year</th><th>Hour</th><th>Min</th><th>Sec</th></tr><tr><td>str</td><td>f64</td><td>f64</td><td>f64</td><td>f64</td><td>f64</td><td>f64</td><td>f64</td><td>str</td><td>date</td><td>i8</td><td>i8</td><td>i32</td><td>i8</td><td>i8</td><td>i8</td></tr></thead><tbody><tr><td>&quot;AAPL&quot;</td><td>228.02</td><td>3.02</td><td>1.3422</td><td>229.74</td><td>225.17</td><td>225.25</td><td>225.0</td><td>&quot;2024-11-18T17:53:36.747774&quot;</td><td>2024-11-18</td><td>18</td><td>11</td><td>2024</td><td>17</td><td>53</td><td>36</td></tr><tr><td>&quot;MSFT&quot;</td><td>415.76</td><td>0.76</td><td>0.1831</td><td>418.4037</td><td>412.1</td><td>414.87</td><td>415.0</td><td>&quot;2024-11-18T17:53:36.747774&quot;</td><td>2024-11-18</td><td>18</td><td>11</td><td>2024</td><td>17</td><td>53</td><td>36</td></tr><tr><td>&quot;GOOGL&quot;</td><td>175.3</td><td>2.81</td><td>1.6291</td><td>175.438</td><td>172.9</td><td>173.42</td><td>172.49</td><td>&quot;2024-11-18T17:53:36.747774&quot;</td><td>2024-11-18</td><td>18</td><td>11</td><td>2024</td><td>17</td><td>53</td><td>36</td></tr><tr><td>&quot;AMZN&quot;</td><td>201.7</td><td>-0.91</td><td>-0.4491</td><td>204.67</td><td>200.95</td><td>204.15</td><td>202.61</td><td>&quot;2024-11-18T17:53:36.747774&quot;</td><td>2024-11-18</td><td>18</td><td>11</td><td>2024</td><td>17</td><td>53</td><td>36</td></tr><tr><td>&quot;TSLA&quot;</td><td>338.74</td><td>18.02</td><td>5.6186</td><td>348.5499</td><td>330.01</td><td>340.73</td><td>320.72</td><td>&quot;2024-11-18T17:53:36.747774&quot;</td><td>2024-11-18</td><td>18</td><td>11</td><td>2024</td><td>17</td><td>53</td><td>36</td></tr><tr><td>&hellip;</td><td>&hellip;</td><td>&hellip;</td><td>&hellip;</td><td>&hellip;</td><td>&hellip;</td><td>&hellip;</td><td>&hellip;</td><td>&hellip;</td><td>&hellip;</td><td>&hellip;</td><td>&hellip;</td><td>&hellip;</td><td>&hellip;</td><td>&hellip;</td><td>&hellip;</td></tr><tr><td>&quot;AAPL&quot;</td><td>226.74</td><td>-1.28</td><td>-0.5614</td><td>227.74</td><td>226.73</td><td>227.74</td><td>228.02</td><td>&quot;2024-11-19T09:30:57.204364&quot;</td><td>2024-11-19</td><td>19</td><td>11</td><td>2024</td><td>9</td><td>30</td><td>57</td></tr><tr><td>&quot;MSFT&quot;</td><td>413.41</td><td>-2.35</td><td>-0.5652</td><td>414.64</td><td>412.89</td><td>414.64</td><td>415.76</td><td>&quot;2024-11-19T09:30:57.204364&quot;</td><td>2024-11-19</td><td>19</td><td>11</td><td>2024</td><td>9</td><td>30</td><td>57</td></tr><tr><td>&quot;GOOGL&quot;</td><td>173.5844</td><td>-1.7156</td><td>-0.9787</td><td>174.06</td><td>173.564</td><td>174.06</td><td>175.3</td><td>&quot;2024-11-19T09:30:57.204364&quot;</td><td>2024-11-19</td><td>19</td><td>11</td><td>2024</td><td>9</td><td>30</td><td>57</td></tr><tr><td>&quot;AMZN&quot;</td><td>199.07</td><td>-2.63</td><td>-1.3039</td><td>201.25</td><td>199.03</td><td>201.25</td><td>201.7</td><td>&quot;2024-11-19T09:30:57.204364&quot;</td><td>2024-11-19</td><td>19</td><td>11</td><td>2024</td><td>9</td><td>30</td><td>57</td></tr><tr><td>&quot;TSLA&quot;</td><td>336.02</td><td>-2.72</td><td>-0.803</td><td>336.38</td><td>335.71</td><td>336.38</td><td>338.74</td><td>&quot;2024-11-19T09:30:57.204364&quot;</td><td>2024-11-19</td><td>19</td><td>11</td><td>2024</td><td>9</td><td>30</td><td>57</td></tr></tbody></table></div>"
      ],
      "text/plain": [
       "shape: (150, 16)\n",
       "┌──────────────┬───────────────┬─────────┬────────────────┬───┬──────┬──────┬─────┬─────┐\n",
       "│ stock_symbol ┆ current_price ┆ change  ┆ percent_change ┆ … ┆ Year ┆ Hour ┆ Min ┆ Sec │\n",
       "│ ---          ┆ ---           ┆ ---     ┆ ---            ┆   ┆ ---  ┆ ---  ┆ --- ┆ --- │\n",
       "│ str          ┆ f64           ┆ f64     ┆ f64            ┆   ┆ i32  ┆ i8   ┆ i8  ┆ i8  │\n",
       "╞══════════════╪═══════════════╪═════════╪════════════════╪═══╪══════╪══════╪═════╪═════╡\n",
       "│ AAPL         ┆ 228.02        ┆ 3.02    ┆ 1.3422         ┆ … ┆ 2024 ┆ 17   ┆ 53  ┆ 36  │\n",
       "│ MSFT         ┆ 415.76        ┆ 0.76    ┆ 0.1831         ┆ … ┆ 2024 ┆ 17   ┆ 53  ┆ 36  │\n",
       "│ GOOGL        ┆ 175.3         ┆ 2.81    ┆ 1.6291         ┆ … ┆ 2024 ┆ 17   ┆ 53  ┆ 36  │\n",
       "│ AMZN         ┆ 201.7         ┆ -0.91   ┆ -0.4491        ┆ … ┆ 2024 ┆ 17   ┆ 53  ┆ 36  │\n",
       "│ TSLA         ┆ 338.74        ┆ 18.02   ┆ 5.6186         ┆ … ┆ 2024 ┆ 17   ┆ 53  ┆ 36  │\n",
       "│ …            ┆ …             ┆ …       ┆ …              ┆ … ┆ …    ┆ …    ┆ …   ┆ …   │\n",
       "│ AAPL         ┆ 226.74        ┆ -1.28   ┆ -0.5614        ┆ … ┆ 2024 ┆ 9    ┆ 30  ┆ 57  │\n",
       "│ MSFT         ┆ 413.41        ┆ -2.35   ┆ -0.5652        ┆ … ┆ 2024 ┆ 9    ┆ 30  ┆ 57  │\n",
       "│ GOOGL        ┆ 173.5844      ┆ -1.7156 ┆ -0.9787        ┆ … ┆ 2024 ┆ 9    ┆ 30  ┆ 57  │\n",
       "│ AMZN         ┆ 199.07        ┆ -2.63   ┆ -1.3039        ┆ … ┆ 2024 ┆ 9    ┆ 30  ┆ 57  │\n",
       "│ TSLA         ┆ 336.02        ┆ -2.72   ┆ -0.803         ┆ … ┆ 2024 ┆ 9    ┆ 30  ┆ 57  │\n",
       "└──────────────┴───────────────┴─────────┴────────────────┴───┴──────┴──────┴─────┴─────┘"
      ]
     },
     "execution_count": 38,
     "metadata": {},
     "output_type": "execute_result"
    }
   ],
   "source": [
    "read_table_to_polars_dataframe(postgresql_config)"
   ]
  }
 ],
 "metadata": {
  "kernelspec": {
   "display_name": "Python 3 (ipykernel)",
   "language": "python",
   "name": "python3"
  },
  "language_info": {
   "codemirror_mode": {
    "name": "ipython",
    "version": 3
   },
   "file_extension": ".py",
   "mimetype": "text/x-python",
   "name": "python",
   "nbconvert_exporter": "python",
   "pygments_lexer": "ipython3",
   "version": "3.10.0"
  }
 },
 "nbformat": 4,
 "nbformat_minor": 5
}
