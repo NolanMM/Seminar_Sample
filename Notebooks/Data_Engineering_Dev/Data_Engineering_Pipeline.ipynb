{
 "cells": [
  {
   "cell_type": "markdown",
   "id": "61b49954-e467-4264-8357-2717f1253652",
   "metadata": {},
   "source": [
    "# I. Import_Stock_List"
   ]
  },
  {
   "cell_type": "code",
   "execution_count": 2,
   "id": "3c4c7c69-2a71-4c85-b5da-caae57cef131",
   "metadata": {},
   "outputs": [
    {
     "name": "stdout",
     "output_type": "stream",
     "text": [
      "['AAPL', 'MSFT', 'GOOGL', 'AMZN', 'TSLA']\n"
     ]
    }
   ],
   "source": [
    "file_path = \"../Servers/stock_symbol_list.txt\"\n",
    "stock_list = []\n",
    "with open(file_path, 'r') as file:\n",
    "    for line in file:\n",
    "        stock_list.append(line.strip())\n",
    "print(stock_list)"
   ]
  },
  {
   "cell_type": "markdown",
   "id": "b001edd6-f350-4a9e-840e-11e2919c2a9f",
   "metadata": {},
   "source": [
    "## II. Import 1m prices from FINHUB"
   ]
  },
  {
   "cell_type": "code",
   "execution_count": 18,
   "id": "8a2eeacd-b6e6-446a-a893-6687f4c8a945",
   "metadata": {},
   "outputs": [],
   "source": [
    "from dotenv import load_dotenv\n",
    "import polars as pl\n",
    "import finnhub\n",
    "import os\n",
    "\n",
    "load_dotenv(\"./keys/finhub.env\", override=True)\n",
    "FINHUB_API = os.getenv(\"FINHUB_API\")\n",
    "FINANCIALMODELINGPREP_API = os.getenv(\"FINANCIALMODELINGPREP_API\")\n",
    "FINANCIALMODELINGPREP_PROFILE_ROUTE = os.getenv(\"FINANCIALMODELINGPREP_PROFILE_ROUTE\")"
   ]
  },
  {
   "cell_type": "markdown",
   "id": "9225308b-18c5-4564-966f-049c8302dde0",
   "metadata": {},
   "source": [
    "# III. Import neccessary libraries and set up environment"
   ]
  },
  {
   "cell_type": "markdown",
   "id": "5c17b263-3b5e-4a2e-a1b7-b9c04940c48f",
   "metadata": {},
   "source": [
    "### 1. Quote Real Time Single Stock Symbol Price"
   ]
  },
  {
   "cell_type": "code",
   "execution_count": 7,
   "id": "6f712a9b-1d44-4034-8b7c-2c029e984c16",
   "metadata": {},
   "outputs": [
    {
     "name": "stdout",
     "output_type": "stream",
     "text": [
      "{'c': 225, 'd': -3.22, 'dp': -1.4109, 'h': 226.92, 'l': 224.27, 'o': 226.4, 'pc': 228.22, 't': 1731790800}\n"
     ]
    }
   ],
   "source": [
    "finnhub_client = finnhub.Client(api_key=FINHUB_API)\n",
    "print(finnhub_client.quote(\"AAPL\"))"
   ]
  },
  {
   "cell_type": "markdown",
   "id": "02eba9b3-2d65-4a07-8ac7-4581f738299b",
   "metadata": {},
   "source": [
    "### 2. Quote Real Time Prices for Stock List"
   ]
  },
  {
   "cell_type": "code",
   "execution_count": 12,
   "id": "f973fd6c-0964-4a48-9408-fc3ec8a4cd49",
   "metadata": {},
   "outputs": [
    {
     "name": "stdout",
     "output_type": "stream",
     "text": [
      "AAPL Real Time Quote\n",
      "{'c': 225, 'd': -3.22, 'dp': -1.4109, 'h': 226.92, 'l': 224.27, 'o': 226.4, 'pc': 228.22, 't': 1731790800}\n",
      "\n",
      "MSFT Real Time Quote\n",
      "{'c': 415, 'd': -11.89, 'dp': -2.7853, 'h': 422.8, 'l': 413.64, 'o': 419.82, 'pc': 426.89, 't': 1731790800}\n",
      "\n",
      "GOOGL Real Time Quote\n",
      "{'c': 172.49, 'd': -3.09, 'dp': -1.7599, 'h': 174.14, 'l': 171.22, 'o': 173.73, 'pc': 175.58, 't': 1731790800}\n",
      "\n",
      "AMZN Real Time Quote\n",
      "{'c': 202.61, 'd': -8.87, 'dp': -4.1943, 'h': 207.34, 'l': 199.61, 'o': 206.76, 'pc': 211.48, 't': 1731790800}\n",
      "\n",
      "TSLA Real Time Quote\n",
      "{'c': 320.72, 'd': 9.54, 'dp': 3.0657, 'h': 324.6799, 'l': 309.22, 'o': 310.57, 'pc': 311.18, 't': 1731790800}\n",
      "\n"
     ]
    },
    {
     "data": {
      "text/plain": [
       "{'AAPL': {'c': 225,\n",
       "  'd': -3.22,\n",
       "  'dp': -1.4109,\n",
       "  'h': 226.92,\n",
       "  'l': 224.27,\n",
       "  'o': 226.4,\n",
       "  'pc': 228.22,\n",
       "  't': 1731790800},\n",
       " 'MSFT': {'c': 415,\n",
       "  'd': -11.89,\n",
       "  'dp': -2.7853,\n",
       "  'h': 422.8,\n",
       "  'l': 413.64,\n",
       "  'o': 419.82,\n",
       "  'pc': 426.89,\n",
       "  't': 1731790800},\n",
       " 'GOOGL': {'c': 172.49,\n",
       "  'd': -3.09,\n",
       "  'dp': -1.7599,\n",
       "  'h': 174.14,\n",
       "  'l': 171.22,\n",
       "  'o': 173.73,\n",
       "  'pc': 175.58,\n",
       "  't': 1731790800},\n",
       " 'AMZN': {'c': 202.61,\n",
       "  'd': -8.87,\n",
       "  'dp': -4.1943,\n",
       "  'h': 207.34,\n",
       "  'l': 199.61,\n",
       "  'o': 206.76,\n",
       "  'pc': 211.48,\n",
       "  't': 1731790800},\n",
       " 'TSLA': {'c': 320.72,\n",
       "  'd': 9.54,\n",
       "  'dp': 3.0657,\n",
       "  'h': 324.6799,\n",
       "  'l': 309.22,\n",
       "  'o': 310.57,\n",
       "  'pc': 311.18,\n",
       "  't': 1731790800}}"
      ]
     },
     "execution_count": 12,
     "metadata": {},
     "output_type": "execute_result"
    }
   ],
   "source": [
    "symbol_prices_dict = dict()\n",
    "\n",
    "for symbol in stock_list:\n",
    "    price_data = finnhub_client.quote(symbol)\n",
    "    symbol_prices_dict[symbol] = price_data\n",
    "    print(symbol + \" Real Time Quote\")\n",
    "    print(str(price_data) + \"\\n\")\n",
    "\n",
    "symbol_prices_dict"
   ]
  },
  {
   "cell_type": "markdown",
   "id": "6ffef9fc-f6aa-4adb-9fb1-f78123ed5c3f",
   "metadata": {},
   "source": [
    "### 3. Convert dictionary to list of rows and create polars dataframe"
   ]
  },
  {
   "cell_type": "code",
   "execution_count": 14,
   "id": "ff4152be-a356-46f5-ac04-0045fff56b85",
   "metadata": {},
   "outputs": [],
   "source": [
    "rows = [\n",
    "    {\n",
    "        \"stock_symbol\": symbol,\n",
    "        \"current_price\": data[\"c\"],\n",
    "        \"change\": data[\"d\"],\n",
    "        \"percent_change\": data[\"dp\"],\n",
    "        \"high_price_of_the_day\": data[\"h\"],\n",
    "        \"low_price_of_the_day\": data[\"l\"],\n",
    "        \"open_price_of_the_day\": data[\"o\"],\n",
    "        \"previous_close_price\": data[\"pc\"]\n",
    "    }\n",
    "    for symbol, data in symbol_prices_dict.items()\n",
    "]\n",
    "df = pl.DataFrame(rows)"
   ]
  },
  {
   "cell_type": "code",
   "execution_count": 15,
   "id": "d8606ca6-6855-4572-bd2d-bce9da485b4b",
   "metadata": {},
   "outputs": [
    {
     "data": {
      "text/html": [
       "<div><style>\n",
       ".dataframe > thead > tr,\n",
       ".dataframe > tbody > tr {\n",
       "  text-align: right;\n",
       "  white-space: pre-wrap;\n",
       "}\n",
       "</style>\n",
       "<small>shape: (5, 8)</small><table border=\"1\" class=\"dataframe\"><thead><tr><th>stock_symbol</th><th>current_price</th><th>change</th><th>percent_change</th><th>high_price_of_the_day</th><th>low_price_of_the_day</th><th>open_price_of_the_day</th><th>previous_close_price</th></tr><tr><td>str</td><td>f64</td><td>f64</td><td>f64</td><td>f64</td><td>f64</td><td>f64</td><td>f64</td></tr></thead><tbody><tr><td>&quot;AAPL&quot;</td><td>225.0</td><td>-3.22</td><td>-1.4109</td><td>226.92</td><td>224.27</td><td>226.4</td><td>228.22</td></tr><tr><td>&quot;MSFT&quot;</td><td>415.0</td><td>-11.89</td><td>-2.7853</td><td>422.8</td><td>413.64</td><td>419.82</td><td>426.89</td></tr><tr><td>&quot;GOOGL&quot;</td><td>172.49</td><td>-3.09</td><td>-1.7599</td><td>174.14</td><td>171.22</td><td>173.73</td><td>175.58</td></tr><tr><td>&quot;AMZN&quot;</td><td>202.61</td><td>-8.87</td><td>-4.1943</td><td>207.34</td><td>199.61</td><td>206.76</td><td>211.48</td></tr><tr><td>&quot;TSLA&quot;</td><td>320.72</td><td>9.54</td><td>3.0657</td><td>324.6799</td><td>309.22</td><td>310.57</td><td>311.18</td></tr></tbody></table></div>"
      ],
      "text/plain": [
       "shape: (5, 8)\n",
       "┌──────────────┬───────────────┬────────┬────────────────┬───────────────────────┬──────────────────────┬───────────────────────┬──────────────────────┐\n",
       "│ stock_symbol ┆ current_price ┆ change ┆ percent_change ┆ high_price_of_the_day ┆ low_price_of_the_day ┆ open_price_of_the_day ┆ previous_close_price │\n",
       "│ ---          ┆ ---           ┆ ---    ┆ ---            ┆ ---                   ┆ ---                  ┆ ---                   ┆ ---                  │\n",
       "│ str          ┆ f64           ┆ f64    ┆ f64            ┆ f64                   ┆ f64                  ┆ f64                   ┆ f64                  │\n",
       "╞══════════════╪═══════════════╪════════╪════════════════╪═══════════════════════╪══════════════════════╪═══════════════════════╪══════════════════════╡\n",
       "│ AAPL         ┆ 225.0         ┆ -3.22  ┆ -1.4109        ┆ 226.92                ┆ 224.27               ┆ 226.4                 ┆ 228.22               │\n",
       "│ MSFT         ┆ 415.0         ┆ -11.89 ┆ -2.7853        ┆ 422.8                 ┆ 413.64               ┆ 419.82                ┆ 426.89               │\n",
       "│ GOOGL        ┆ 172.49        ┆ -3.09  ┆ -1.7599        ┆ 174.14                ┆ 171.22               ┆ 173.73                ┆ 175.58               │\n",
       "│ AMZN         ┆ 202.61        ┆ -8.87  ┆ -4.1943        ┆ 207.34                ┆ 199.61               ┆ 206.76                ┆ 211.48               │\n",
       "│ TSLA         ┆ 320.72        ┆ 9.54   ┆ 3.0657         ┆ 324.6799              ┆ 309.22               ┆ 310.57                ┆ 311.18               │\n",
       "└──────────────┴───────────────┴────────┴────────────────┴───────────────────────┴──────────────────────┴───────────────────────┴──────────────────────┘"
      ]
     },
     "execution_count": 15,
     "metadata": {},
     "output_type": "execute_result"
    }
   ],
   "source": [
    "df"
   ]
  },
  {
   "cell_type": "markdown",
   "id": "c5abb0f1-327d-43fa-8891-05eb102fa65a",
   "metadata": {},
   "source": [
    "# IV. Retrieve Company Information"
   ]
  },
  {
   "cell_type": "code",
   "execution_count": 21,
   "id": "b37a2799-6b9a-45dc-ab10-7211dae18b9f",
   "metadata": {},
   "outputs": [
    {
     "name": "stdout",
     "output_type": "stream",
     "text": [
      "[{'symbol': 'AAPL', 'price': 225, 'beta': 1.24, 'volAvg': 47719342, 'mktCap': 3401055000000, 'lastDiv': 0.99, 'range': '164.08-237.49', 'changes': -3.22, 'companyName': 'Apple Inc.', 'currency': 'USD', 'cik': '0000320193', 'isin': 'US0378331005', 'cusip': '037833100', 'exchange': 'NASDAQ Global Select', 'exchangeShortName': 'NASDAQ', 'industry': 'Consumer Electronics', 'website': 'https://www.apple.com', 'description': 'Apple Inc. designs, manufactures, and markets smartphones, personal computers, tablets, wearables, and accessories worldwide. The company offers iPhone, a line of smartphones; Mac, a line of personal computers; iPad, a line of multi-purpose tablets; and wearables, home, and accessories comprising AirPods, Apple TV, Apple Watch, Beats products, and HomePod. It also provides AppleCare support and cloud services; and operates various platforms, including the App Store that allow customers to discover and download applications and digital content, such as books, music, video, games, and podcasts. In addition, the company offers various services, such as Apple Arcade, a game subscription service; Apple Fitness+, a personalized fitness service; Apple Music, which offers users a curated listening experience with on-demand radio stations; Apple News+, a subscription news and magazine service; Apple TV+, which offers exclusive original content; Apple Card, a co-branded credit card; and Apple Pay, a cashless payment service, as well as licenses its intellectual property. The company serves consumers, and small and mid-sized businesses; and the education, enterprise, and government markets. It distributes third-party applications for its products through the App Store. The company also sells its products through its retail and online stores, and direct sales force; and third-party cellular network carriers, wholesalers, retailers, and resellers. Apple Inc. was founded in 1976 and is headquartered in Cupertino, California.', 'ceo': 'Mr. Timothy D. Cook', 'sector': 'Technology', 'country': 'US', 'fullTimeEmployees': '164000', 'phone': '408 996 1010', 'address': 'One Apple Park Way', 'city': 'Cupertino', 'state': 'CA', 'zip': '95014', 'dcfDiff': 76.28377, 'dcf': 148.71622529446276, 'image': 'https://images.financialmodelingprep.com/symbol/AAPL.png', 'ipoDate': '1980-12-12', 'defaultImage': False, 'isEtf': False, 'isActivelyTrading': True, 'isAdr': False, 'isFund': False}]\n"
     ]
    }
   ],
   "source": [
    "from urllib.request import urlopen\n",
    "import certifi\n",
    "import json\n",
    "import ssl\n",
    "\n",
    "def get_jsonparsed_data(url):\n",
    "    ssl_context = ssl.create_default_context(cafile=certifi.where())\n",
    "    response = urlopen(url, context=ssl_context)\n",
    "    data = response.read().decode(\"utf-8\")\n",
    "    return json.loads(data)\n",
    "\n",
    "url = (FINANCIALMODELINGPREP_PROFILE_ROUTE + \"AAPL\" + \"?apikey=\" + FINANCIALMODELINGPREP_API)\n",
    "print(get_jsonparsed_data(url))"
   ]
  },
  {
   "cell_type": "code",
   "execution_count": 22,
   "id": "0a037d9c-e6c9-4b06-a52f-9033fc1f1abb",
   "metadata": {},
   "outputs": [
    {
     "name": "stdout",
     "output_type": "stream",
     "text": [
      "AAPL Company Informmation\n",
      "[{'symbol': 'AAPL', 'price': 225, 'beta': 1.24, 'volAvg': 47719342, 'mktCap': 3401055000000, 'lastDiv': 0.99, 'range': '164.08-237.49', 'changes': -3.22, 'companyName': 'Apple Inc.', 'currency': 'USD', 'cik': '0000320193', 'isin': 'US0378331005', 'cusip': '037833100', 'exchange': 'NASDAQ Global Select', 'exchangeShortName': 'NASDAQ', 'industry': 'Consumer Electronics', 'website': 'https://www.apple.com', 'description': 'Apple Inc. designs, manufactures, and markets smartphones, personal computers, tablets, wearables, and accessories worldwide. The company offers iPhone, a line of smartphones; Mac, a line of personal computers; iPad, a line of multi-purpose tablets; and wearables, home, and accessories comprising AirPods, Apple TV, Apple Watch, Beats products, and HomePod. It also provides AppleCare support and cloud services; and operates various platforms, including the App Store that allow customers to discover and download applications and digital content, such as books, music, video, games, and podcasts. In addition, the company offers various services, such as Apple Arcade, a game subscription service; Apple Fitness+, a personalized fitness service; Apple Music, which offers users a curated listening experience with on-demand radio stations; Apple News+, a subscription news and magazine service; Apple TV+, which offers exclusive original content; Apple Card, a co-branded credit card; and Apple Pay, a cashless payment service, as well as licenses its intellectual property. The company serves consumers, and small and mid-sized businesses; and the education, enterprise, and government markets. It distributes third-party applications for its products through the App Store. The company also sells its products through its retail and online stores, and direct sales force; and third-party cellular network carriers, wholesalers, retailers, and resellers. Apple Inc. was founded in 1976 and is headquartered in Cupertino, California.', 'ceo': 'Mr. Timothy D. Cook', 'sector': 'Technology', 'country': 'US', 'fullTimeEmployees': '164000', 'phone': '408 996 1010', 'address': 'One Apple Park Way', 'city': 'Cupertino', 'state': 'CA', 'zip': '95014', 'dcfDiff': 76.28377, 'dcf': 148.71622529446276, 'image': 'https://images.financialmodelingprep.com/symbol/AAPL.png', 'ipoDate': '1980-12-12', 'defaultImage': False, 'isEtf': False, 'isActivelyTrading': True, 'isAdr': False, 'isFund': False}]\n",
      "\n",
      "MSFT Company Informmation\n",
      "[{'symbol': 'MSFT', 'price': 415, 'beta': 0.904, 'volAvg': 19210821, 'mktCap': 3085475200000, 'lastDiv': 2.25, 'range': '362.9-468.35', 'changes': -11.89, 'companyName': 'Microsoft Corporation', 'currency': 'USD', 'cik': '0000789019', 'isin': 'US5949181045', 'cusip': '594918104', 'exchange': 'NASDAQ Global Select', 'exchangeShortName': 'NASDAQ', 'industry': 'Software - Infrastructure', 'website': 'https://www.microsoft.com', 'description': 'Microsoft Corporation develops, licenses, and supports software, services, devices, and solutions worldwide. The company operates in three segments: Productivity and Business Processes, Intelligent Cloud, and More Personal Computing. The Productivity and Business Processes segment offers Office, Exchange, SharePoint, Microsoft Teams, Office 365 Security and Compliance, Microsoft Viva, and Skype for Business; Skype, Outlook.com, OneDrive, and LinkedIn; and Dynamics 365, a set of cloud-based and on-premises business solutions for organizations and enterprise divisions. The Intelligent Cloud segment licenses SQL, Windows Servers, Visual Studio, System Center, and related Client Access Licenses; GitHub that provides a collaboration platform and code hosting service for developers; Nuance provides healthcare and enterprise AI solutions; and Azure, a cloud platform. It also offers enterprise support, Microsoft consulting, and nuance professional services to assist customers in developing, deploying, and managing Microsoft server and desktop solutions; and training and certification on Microsoft products. The More Personal Computing segment provides Windows original equipment manufacturer (OEM) licensing and other non-volume licensing of the Windows operating system; Windows Commercial, such as volume licensing of the Windows operating system, Windows cloud services, and other Windows commercial offerings; patent licensing; and Windows Internet of Things. It also offers Surface, PC accessories, PCs, tablets, gaming and entertainment consoles, and other devices; Gaming, including Xbox hardware, and Xbox content and services; video games and third-party video game royalties; and Search, including Bing and Microsoft advertising. The company sells its products through OEMs, distributors, and resellers; and directly through digital marketplaces, online stores, and retail stores. Microsoft Corporation was founded in 1975 and is headquartered in Redmond, Washington.', 'ceo': 'Mr. Satya  Nadella', 'sector': 'Technology', 'country': 'US', 'fullTimeEmployees': '228000', 'phone': '425 882 8080', 'address': 'One Microsoft Way', 'city': 'Redmond', 'state': 'WA', 'zip': '98052-6399', 'dcfDiff': 47.70472, 'dcf': 367.2952772934209, 'image': 'https://images.financialmodelingprep.com/symbol/MSFT.png', 'ipoDate': '1986-03-13', 'defaultImage': False, 'isEtf': False, 'isActivelyTrading': True, 'isAdr': False, 'isFund': False}]\n",
      "\n",
      "GOOGL Company Informmation\n",
      "[{'symbol': 'GOOGL', 'price': 172.49, 'beta': 1.034, 'volAvg': 24372353, 'mktCap': 2120041614569, 'lastDiv': 0.4, 'range': '127.9-191.75', 'changes': -3.09, 'companyName': 'Alphabet Inc.', 'currency': 'USD', 'cik': '0001652044', 'isin': 'US02079K3059', 'cusip': '02079K305', 'exchange': 'NASDAQ Global Select', 'exchangeShortName': 'NASDAQ', 'industry': 'Internet Content & Information', 'website': 'https://www.abc.xyz', 'description': 'Alphabet Inc. provides various products and platforms in the United States, Europe, the Middle East, Africa, the Asia-Pacific, Canada, and Latin America. It operates through Google Services, Google Cloud, and Other Bets segments. The Google Services segment offers products and services, including ads, Android, Chrome, hardware, Gmail, Google Drive, Google Maps, Google Photos, Google Play, Search, and YouTube. It is also involved in the sale of apps and in-app purchases and digital content in the Google Play store; and Fitbit wearable devices, Google Nest home products, Pixel phones, and other devices, as well as in the provision of YouTube non-advertising services. The Google Cloud segment offers infrastructure, platform, and other services; Google Workspace that include cloud-based collaboration tools for enterprises, such as Gmail, Docs, Drive, Calendar, and Meet; and other services for enterprise customers. The Other Bets segment sells health technology and internet services. The company was founded in 1998 and is headquartered in Mountain View, California.', 'ceo': 'Mr. Sundar  Pichai', 'sector': 'Communication Services', 'country': 'US', 'fullTimeEmployees': '181269', 'phone': '650 253 0000', 'address': '1600 Amphitheatre Parkway', 'city': 'Mountain View', 'state': 'CA', 'zip': '94043', 'dcfDiff': -26.11715, 'dcf': 198.607146113106, 'image': 'https://images.financialmodelingprep.com/symbol/GOOGL.png', 'ipoDate': '2004-08-19', 'defaultImage': False, 'isEtf': False, 'isActivelyTrading': True, 'isAdr': False, 'isFund': False}]\n",
      "\n",
      "AMZN Company Informmation\n",
      "[{'symbol': 'AMZN', 'price': 202.61, 'beta': 1.146, 'volAvg': 36387879, 'mktCap': 2130444150000, 'lastDiv': 0, 'range': '141.5-215.9', 'changes': -8.87, 'companyName': 'Amazon.com, Inc.', 'currency': 'USD', 'cik': '0001018724', 'isin': 'US0231351067', 'cusip': '023135106', 'exchange': 'NASDAQ Global Select', 'exchangeShortName': 'NASDAQ', 'industry': 'Specialty Retail', 'website': 'https://www.amazon.com', 'description': 'Amazon.com, Inc. engages in the retail sale of consumer products and subscriptions through online and physical stores in North America and internationally. The company operates through three segments: North America, International, and Amazon Web Services (AWS). Its products offered through its stores include merchandise and content purchased for resale; and products offered by third-party sellers The company also manufactures and sells electronic devices, including Kindle, Fire tablets, Fire TVs, Rings, Blink, eero, and Echo; and develops and produces media content. In addition, it offers programs that enable sellers to sell their products in its stores; and programs that allow authors, musicians, filmmakers, Twitch streamers, skill and app developers, and others to publish and sell content. Further, the company provides compute, storage, database, analytics, machine learning, and other services, as well as fulfillment, advertising, and digital content subscriptions. Additionally, it offers Amazon Prime, a membership program. The company serves consumers, sellers, developers, enterprises, content creators, and advertisers. Amazon.com, Inc. was incorporated in 1994 and is headquartered in Seattle, Washington.', 'ceo': 'Mr. Andrew R. Jassy', 'sector': 'Consumer Cyclical', 'country': 'US', 'fullTimeEmployees': '1551000', 'phone': '206 266 1000', 'address': '410 Terry Avenue North', 'city': 'Seattle', 'state': 'WA', 'zip': '98109-5210', 'dcfDiff': 151.86378, 'dcf': 50.74622133823246, 'image': 'https://images.financialmodelingprep.com/symbol/AMZN.png', 'ipoDate': '1997-05-15', 'defaultImage': False, 'isEtf': False, 'isActivelyTrading': True, 'isAdr': False, 'isFund': False}]\n",
      "\n",
      "TSLA Company Informmation\n",
      "[{'symbol': 'TSLA', 'price': 320.72, 'beta': 2.295, 'volAvg': 87482998, 'mktCap': 1029530443200, 'lastDiv': 0, 'range': '138.8-358.64', 'changes': 9.54, 'companyName': 'Tesla, Inc.', 'currency': 'USD', 'cik': '0001318605', 'isin': 'US88160R1014', 'cusip': '88160R101', 'exchange': 'NASDAQ Global Select', 'exchangeShortName': 'NASDAQ', 'industry': 'Auto - Manufacturers', 'website': 'https://www.tesla.com', 'description': 'Tesla, Inc. designs, develops, manufactures, leases, and sells electric vehicles, and energy generation and storage systems in the United States, China, and internationally. It operates in two segments, Automotive, and Energy Generation and Storage. The Automotive segment offers electric vehicles, as well as sells automotive regulatory credits; and non-warranty after-sales vehicle, used vehicles, retail merchandise, and vehicle insurance services. This segment also provides sedans and sport utility vehicles through direct and used vehicle sales, a network of Tesla Superchargers, and in-app upgrades; purchase financing and leasing services; services for electric vehicles through its company-owned service locations and Tesla mobile service technicians; and vehicle limited warranties and extended service plans. The Energy Generation and Storage segment engages in the design, manufacture, installation, sale, and leasing of solar energy generation and energy storage products, and related services to residential, commercial, and industrial customers and utilities through its website, stores, and galleries, as well as through a network of channel partners; and provision of service and repairs to its energy product customers, including under warranty, as well as various financing options to its solar customers. The company was formerly known as Tesla Motors, Inc. and changed its name to Tesla, Inc. in February 2017. Tesla, Inc. was incorporated in 2003 and is headquartered in Austin, Texas.', 'ceo': 'Mr. Elon R. Musk', 'sector': 'Consumer Cyclical', 'country': 'US', 'fullTimeEmployees': '140473', 'phone': '512 516 8177', 'address': '1 Tesla Road', 'city': 'Austin', 'state': 'TX', 'zip': '78725', 'dcfDiff': 253.49773, 'dcf': 67.22227180734866, 'image': 'https://images.financialmodelingprep.com/symbol/TSLA.png', 'ipoDate': '2010-06-29', 'defaultImage': False, 'isEtf': False, 'isActivelyTrading': True, 'isAdr': False, 'isFund': False}]\n",
      "\n"
     ]
    }
   ],
   "source": [
    "symbol_company_infor_dict = dict()\n",
    "\n",
    "for symbol in stock_list:\n",
    "    url = (FINANCIALMODELINGPREP_PROFILE_ROUTE + symbol + \"?apikey=\" + FINANCIALMODELINGPREP_API)\n",
    "    company_infor = get_jsonparsed_data(url)\n",
    "    symbol_company_infor_dict[symbol] = company_infor\n",
    "    print(symbol + \" Company Informmation\")\n",
    "    print(str(company_infor) + \"\\n\")"
   ]
  },
  {
   "cell_type": "code",
   "execution_count": 24,
   "id": "c7a274b5-bda8-4a59-89ad-a2c52fdaace0",
   "metadata": {},
   "outputs": [],
   "source": [
    "rows_company_infor_dataframe = [data for symbol, data_list in symbol_company_infor_dict.items() for data in data_list]\n",
    "df_company_infor = pl.DataFrame(rows_company_infor_dataframe)"
   ]
  },
  {
   "cell_type": "code",
   "execution_count": 25,
   "id": "da774318-64c1-4fc5-bff6-9857c54a9a1b",
   "metadata": {},
   "outputs": [
    {
     "data": {
      "text/html": [
       "<div><style>\n",
       ".dataframe > thead > tr,\n",
       ".dataframe > tbody > tr {\n",
       "  text-align: right;\n",
       "  white-space: pre-wrap;\n",
       "}\n",
       "</style>\n",
       "<small>shape: (5, 36)</small><table border=\"1\" class=\"dataframe\"><thead><tr><th>symbol</th><th>price</th><th>beta</th><th>volAvg</th><th>mktCap</th><th>lastDiv</th><th>range</th><th>changes</th><th>companyName</th><th>currency</th><th>cik</th><th>isin</th><th>cusip</th><th>exchange</th><th>exchangeShortName</th><th>industry</th><th>website</th><th>description</th><th>ceo</th><th>sector</th><th>country</th><th>fullTimeEmployees</th><th>phone</th><th>address</th><th>city</th><th>state</th><th>zip</th><th>dcfDiff</th><th>dcf</th><th>image</th><th>ipoDate</th><th>defaultImage</th><th>isEtf</th><th>isActivelyTrading</th><th>isAdr</th><th>isFund</th></tr><tr><td>str</td><td>f64</td><td>f64</td><td>i64</td><td>i64</td><td>f64</td><td>str</td><td>f64</td><td>str</td><td>str</td><td>str</td><td>str</td><td>str</td><td>str</td><td>str</td><td>str</td><td>str</td><td>str</td><td>str</td><td>str</td><td>str</td><td>str</td><td>str</td><td>str</td><td>str</td><td>str</td><td>str</td><td>f64</td><td>f64</td><td>str</td><td>str</td><td>bool</td><td>bool</td><td>bool</td><td>bool</td><td>bool</td></tr></thead><tbody><tr><td>&quot;AAPL&quot;</td><td>225.0</td><td>1.24</td><td>47719342</td><td>3401055000000</td><td>0.99</td><td>&quot;164.08-237.49&quot;</td><td>-3.22</td><td>&quot;Apple Inc.&quot;</td><td>&quot;USD&quot;</td><td>&quot;0000320193&quot;</td><td>&quot;US0378331005&quot;</td><td>&quot;037833100&quot;</td><td>&quot;NASDAQ Global Select&quot;</td><td>&quot;NASDAQ&quot;</td><td>&quot;Consumer Electronics&quot;</td><td>&quot;https://www.apple.com&quot;</td><td>&quot;Apple Inc. designs, manufactur…</td><td>&quot;Mr. Timothy D. Cook&quot;</td><td>&quot;Technology&quot;</td><td>&quot;US&quot;</td><td>&quot;164000&quot;</td><td>&quot;408 996 1010&quot;</td><td>&quot;One Apple Park Way&quot;</td><td>&quot;Cupertino&quot;</td><td>&quot;CA&quot;</td><td>&quot;95014&quot;</td><td>76.28377</td><td>148.716225</td><td>&quot;https://images.financialmodeli…</td><td>&quot;1980-12-12&quot;</td><td>false</td><td>false</td><td>true</td><td>false</td><td>false</td></tr><tr><td>&quot;MSFT&quot;</td><td>415.0</td><td>0.904</td><td>19210821</td><td>3085475200000</td><td>2.25</td><td>&quot;362.9-468.35&quot;</td><td>-11.89</td><td>&quot;Microsoft Corporation&quot;</td><td>&quot;USD&quot;</td><td>&quot;0000789019&quot;</td><td>&quot;US5949181045&quot;</td><td>&quot;594918104&quot;</td><td>&quot;NASDAQ Global Select&quot;</td><td>&quot;NASDAQ&quot;</td><td>&quot;Software - Infrastructure&quot;</td><td>&quot;https://www.microsoft.com&quot;</td><td>&quot;Microsoft Corporation develops…</td><td>&quot;Mr. Satya  Nadella&quot;</td><td>&quot;Technology&quot;</td><td>&quot;US&quot;</td><td>&quot;228000&quot;</td><td>&quot;425 882 8080&quot;</td><td>&quot;One Microsoft Way&quot;</td><td>&quot;Redmond&quot;</td><td>&quot;WA&quot;</td><td>&quot;98052-6399&quot;</td><td>47.70472</td><td>367.295277</td><td>&quot;https://images.financialmodeli…</td><td>&quot;1986-03-13&quot;</td><td>false</td><td>false</td><td>true</td><td>false</td><td>false</td></tr><tr><td>&quot;GOOGL&quot;</td><td>172.49</td><td>1.034</td><td>24372353</td><td>2120041614569</td><td>0.4</td><td>&quot;127.9-191.75&quot;</td><td>-3.09</td><td>&quot;Alphabet Inc.&quot;</td><td>&quot;USD&quot;</td><td>&quot;0001652044&quot;</td><td>&quot;US02079K3059&quot;</td><td>&quot;02079K305&quot;</td><td>&quot;NASDAQ Global Select&quot;</td><td>&quot;NASDAQ&quot;</td><td>&quot;Internet Content &amp; Information&quot;</td><td>&quot;https://www.abc.xyz&quot;</td><td>&quot;Alphabet Inc. provides various…</td><td>&quot;Mr. Sundar  Pichai&quot;</td><td>&quot;Communication Services&quot;</td><td>&quot;US&quot;</td><td>&quot;181269&quot;</td><td>&quot;650 253 0000&quot;</td><td>&quot;1600 Amphitheatre Parkway&quot;</td><td>&quot;Mountain View&quot;</td><td>&quot;CA&quot;</td><td>&quot;94043&quot;</td><td>-26.11715</td><td>198.607146</td><td>&quot;https://images.financialmodeli…</td><td>&quot;2004-08-19&quot;</td><td>false</td><td>false</td><td>true</td><td>false</td><td>false</td></tr><tr><td>&quot;AMZN&quot;</td><td>202.61</td><td>1.146</td><td>36387879</td><td>2130444150000</td><td>0.0</td><td>&quot;141.5-215.9&quot;</td><td>-8.87</td><td>&quot;Amazon.com, Inc.&quot;</td><td>&quot;USD&quot;</td><td>&quot;0001018724&quot;</td><td>&quot;US0231351067&quot;</td><td>&quot;023135106&quot;</td><td>&quot;NASDAQ Global Select&quot;</td><td>&quot;NASDAQ&quot;</td><td>&quot;Specialty Retail&quot;</td><td>&quot;https://www.amazon.com&quot;</td><td>&quot;Amazon.com, Inc. engages in th…</td><td>&quot;Mr. Andrew R. Jassy&quot;</td><td>&quot;Consumer Cyclical&quot;</td><td>&quot;US&quot;</td><td>&quot;1551000&quot;</td><td>&quot;206 266 1000&quot;</td><td>&quot;410 Terry Avenue North&quot;</td><td>&quot;Seattle&quot;</td><td>&quot;WA&quot;</td><td>&quot;98109-5210&quot;</td><td>151.86378</td><td>50.746221</td><td>&quot;https://images.financialmodeli…</td><td>&quot;1997-05-15&quot;</td><td>false</td><td>false</td><td>true</td><td>false</td><td>false</td></tr><tr><td>&quot;TSLA&quot;</td><td>320.72</td><td>2.295</td><td>87482998</td><td>1029530443200</td><td>0.0</td><td>&quot;138.8-358.64&quot;</td><td>9.54</td><td>&quot;Tesla, Inc.&quot;</td><td>&quot;USD&quot;</td><td>&quot;0001318605&quot;</td><td>&quot;US88160R1014&quot;</td><td>&quot;88160R101&quot;</td><td>&quot;NASDAQ Global Select&quot;</td><td>&quot;NASDAQ&quot;</td><td>&quot;Auto - Manufacturers&quot;</td><td>&quot;https://www.tesla.com&quot;</td><td>&quot;Tesla, Inc. designs, develops,…</td><td>&quot;Mr. Elon R. Musk&quot;</td><td>&quot;Consumer Cyclical&quot;</td><td>&quot;US&quot;</td><td>&quot;140473&quot;</td><td>&quot;512 516 8177&quot;</td><td>&quot;1 Tesla Road&quot;</td><td>&quot;Austin&quot;</td><td>&quot;TX&quot;</td><td>&quot;78725&quot;</td><td>253.49773</td><td>67.222272</td><td>&quot;https://images.financialmodeli…</td><td>&quot;2010-06-29&quot;</td><td>false</td><td>false</td><td>true</td><td>false</td><td>false</td></tr></tbody></table></div>"
      ],
      "text/plain": [
       "shape: (5, 36)\n",
       "┌────────┬────────┬───────┬──────────┬───┬───────┬───────────────────┬───────┬────────┐\n",
       "│ symbol ┆ price  ┆ beta  ┆ volAvg   ┆ … ┆ isEtf ┆ isActivelyTrading ┆ isAdr ┆ isFund │\n",
       "│ ---    ┆ ---    ┆ ---   ┆ ---      ┆   ┆ ---   ┆ ---               ┆ ---   ┆ ---    │\n",
       "│ str    ┆ f64    ┆ f64   ┆ i64      ┆   ┆ bool  ┆ bool              ┆ bool  ┆ bool   │\n",
       "╞════════╪════════╪═══════╪══════════╪═══╪═══════╪═══════════════════╪═══════╪════════╡\n",
       "│ AAPL   ┆ 225.0  ┆ 1.24  ┆ 47719342 ┆ … ┆ false ┆ true              ┆ false ┆ false  │\n",
       "│ MSFT   ┆ 415.0  ┆ 0.904 ┆ 19210821 ┆ … ┆ false ┆ true              ┆ false ┆ false  │\n",
       "│ GOOGL  ┆ 172.49 ┆ 1.034 ┆ 24372353 ┆ … ┆ false ┆ true              ┆ false ┆ false  │\n",
       "│ AMZN   ┆ 202.61 ┆ 1.146 ┆ 36387879 ┆ … ┆ false ┆ true              ┆ false ┆ false  │\n",
       "│ TSLA   ┆ 320.72 ┆ 2.295 ┆ 87482998 ┆ … ┆ false ┆ true              ┆ false ┆ false  │\n",
       "└────────┴────────┴───────┴──────────┴───┴───────┴───────────────────┴───────┴────────┘"
      ]
     },
     "execution_count": 25,
     "metadata": {},
     "output_type": "execute_result"
    }
   ],
   "source": [
    "df_company_infor"
   ]
  },
  {
   "cell_type": "code",
   "execution_count": 26,
   "id": "eb264446-8d2f-463d-9ccb-2fe81f11b04e",
   "metadata": {},
   "outputs": [
    {
     "data": {
      "text/plain": [
       "['symbol',\n",
       " 'price',\n",
       " 'beta',\n",
       " 'volAvg',\n",
       " 'mktCap',\n",
       " 'lastDiv',\n",
       " 'range',\n",
       " 'changes',\n",
       " 'companyName',\n",
       " 'currency',\n",
       " 'cik',\n",
       " 'isin',\n",
       " 'cusip',\n",
       " 'exchange',\n",
       " 'exchangeShortName',\n",
       " 'industry',\n",
       " 'website',\n",
       " 'description',\n",
       " 'ceo',\n",
       " 'sector',\n",
       " 'country',\n",
       " 'fullTimeEmployees',\n",
       " 'phone',\n",
       " 'address',\n",
       " 'city',\n",
       " 'state',\n",
       " 'zip',\n",
       " 'dcfDiff',\n",
       " 'dcf',\n",
       " 'image',\n",
       " 'ipoDate',\n",
       " 'defaultImage',\n",
       " 'isEtf',\n",
       " 'isActivelyTrading',\n",
       " 'isAdr',\n",
       " 'isFund']"
      ]
     },
     "execution_count": 26,
     "metadata": {},
     "output_type": "execute_result"
    }
   ],
   "source": [
    "df_company_infor.columns"
   ]
  },
  {
   "cell_type": "code",
   "execution_count": null,
   "id": "7a5dbfd8-e307-4186-86f4-d04a404d6de8",
   "metadata": {},
   "outputs": [],
   "source": []
  }
 ],
 "metadata": {
  "kernelspec": {
   "display_name": "Python 3 (ipykernel)",
   "language": "python",
   "name": "python3"
  },
  "language_info": {
   "codemirror_mode": {
    "name": "ipython",
    "version": 3
   },
   "file_extension": ".py",
   "mimetype": "text/x-python",
   "name": "python",
   "nbconvert_exporter": "python",
   "pygments_lexer": "ipython3",
   "version": "3.10.0"
  }
 },
 "nbformat": 4,
 "nbformat_minor": 5
}
